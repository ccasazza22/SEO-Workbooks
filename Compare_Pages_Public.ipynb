{
  "cells": [
    {
      "cell_type": "markdown",
      "metadata": {
        "id": "view-in-github",
        "colab_type": "text"
      },
      "source": [
        "<a href=\"https://colab.research.google.com/github/ccasazza22/SEO-Workbooks/blob/master/Compare_Pages_Public.ipynb\" target=\"_parent\"><img src=\"https://colab.research.google.com/assets/colab-badge.svg\" alt=\"Open In Colab\"/></a>"
      ]
    },
    {
      "cell_type": "code",
      "execution_count": null,
      "metadata": {
        "id": "59AlGlOAqrz7"
      },
      "outputs": [],
      "source": [
        "pip install openai"
      ]
    },
    {
      "cell_type": "code",
      "execution_count": null,
      "metadata": {
        "id": "H1Hi8ndu5DVc"
      },
      "outputs": [],
      "source": [
        "pip install tiktoken"
      ]
    },
    {
      "cell_type": "code",
      "source": [
        "pip install newspaper3k"
      ],
      "metadata": {
        "id": "ujZ1YXFxSHI-"
      },
      "execution_count": null,
      "outputs": []
    },
    {
      "cell_type": "code",
      "source": [
        "pip install transformers"
      ],
      "metadata": {
        "id": "2M5-pBJZzw8Q"
      },
      "execution_count": null,
      "outputs": []
    },
    {
      "cell_type": "markdown",
      "source": [
        "## Establish Functions\n",
        "\n",
        "Use getContent to pull in the text from the articles you are comparing"
      ],
      "metadata": {
        "id": "0tddnOOBmXex"
      }
    },
    {
      "cell_type": "code",
      "source": [
        "from newspaper import Article\n",
        "import tiktoken\n",
        "import openai\n",
        "import os\n",
        "\n",
        "openai.api_key = 'INSERT YOUR API KEY'\n",
        "\n",
        "\n",
        "from transformers import GPT2Tokenizer\n",
        "\n",
        "# Initialize the GPT2 tokenizer\n",
        "tokenizer = GPT2Tokenizer.from_pretrained('gpt2')\n",
        "\n",
        "\n",
        "def getContent(url):\n",
        "    # Initialize a new Article object\n",
        "    article = Article(url)\n",
        "\n",
        "    # Download and parse the article\n",
        "    article.download()\n",
        "    article.parse()\n",
        "    text = article.text\n",
        "    return text"
      ],
      "metadata": {
        "id": "U5evUSRASFiZ"
      },
      "execution_count": null,
      "outputs": []
    },
    {
      "cell_type": "markdown",
      "source": [
        "## Add Articles to Compare Here"
      ],
      "metadata": {
        "id": "O8bWeNT1aWZ1"
      }
    },
    {
      "cell_type": "code",
      "source": [
        "article1 = getContent(\"YOUR URL\") ## add url you are comparing against\n",
        "article2 = getContent(\"YOUR COMPETITOR's URL\") ## add url you are comparing to\n",
        "site1 = \"YOUR SITE NAME\" ## This is the name of your site\n",
        "site2 = \"COMPETITOR SITE NAME\" ## be sure to add competitor name\n",
        "\n",
        "\n",
        "articles_dict = {\n",
        "    site1: article1,\n",
        "    site2: article2\n",
        "  }"
      ],
      "metadata": {
        "id": "HrUSsgyXaVVU"
      },
      "execution_count": null,
      "outputs": []
    },
    {
      "cell_type": "markdown",
      "source": [
        "## Run Function Here"
      ],
      "metadata": {
        "id": "FKAY7GigabWD"
      }
    },
    {
      "cell_type": "code",
      "source": [
        "truncated_articles = {}\n",
        "for title, content in articles_dict.items():\n",
        "    tokens = tokenizer.encode(content, max_length=6000, truncation=True)\n",
        "    truncated_content = tokenizer.decode(tokens)\n",
        "    truncated_articles[title] = truncated_content\n",
        "\n",
        "articles = \"\\n\\n\".join([f\"{title}: {content}\" for title, content in truncated_articles.items()])\n",
        "\n",
        "\n",
        "def compareURL(articles,site1,site2):\n",
        "  prompt_start = (\n",
        "          \"You are an AI assistant highlighting the information differences between two articles. You are to help highlight what information is present in one article and not present in the other. Do not make up an answer if there are no significant differences\")\n",
        "  query = \"What information does the\"+ site2 + \"page have that the\" + site1 +\"page does not?\"\n",
        "  prompt =  [\n",
        "              {\"role\": \"system\", \"content\": prompt_start},\n",
        "              {\"role\": \"assistant\", \"content\": articles },\n",
        "              {\"role\": \"user\", \"content\": query},\n",
        "          ]\n",
        "  response = openai.ChatCompletion.create(\n",
        "          model='gpt-3.5-turbo-16k-0613',\n",
        "          messages=prompt,\n",
        "          temperature=0,\n",
        "          max_tokens=4000,\n",
        "          top_p=1,\n",
        "          frequency_penalty=0,\n",
        "          presence_penalty=0,\n",
        "          stop=None\n",
        "      )\n",
        "  answers = response[\"choices\"][0][\"message\"][\"content\"]\n",
        "  return(answers)\n",
        "\n",
        "print(compareURL(articles,site1,site2))"
      ],
      "metadata": {
        "colab": {
          "base_uri": "https://localhost:8080/"
        },
        "id": "OmIbuGlxaaob",
        "outputId": "7b97a16a-6060-4680-b575-cc833c8aa95a"
      },
      "execution_count": null,
      "outputs": [
        {
          "output_type": "stream",
          "name": "stdout",
          "text": [
            "The COMPETITOR page provides the following information that is not present in the CNET page:\n",
            "\n",
            "1. It explains the concept of a savings account and how it typically earns interest.\n",
            "2. It mentions the limit on the number of certain types of withdrawals from a savings account and the potential fees for exceeding that limit.\n",
            "3. It suggests placing funds in a high-yield savings account offered by online banks and credit unions to earn above-average interest rates.\n",
            "4. It mentions that the national average savings rate is 0.42% APY and highlights the potential to earn close to 10 times the national average with a high-interest savings account.\n",
            "5. It discusses the impact of the Federal Reserve raising rates on savings accounts and suggests taking advantage of high rates with a federally insured savings account or certificate of deposit (CD).\n",
            "6. It provides examples of high-yield savings accounts and CDs with their respective interest rates and minimum balances.\n",
            "7. It explains the concept of a CD, including the higher interest rate it can offer in exchange for restricting access to funds during the CD term.\n",
            "8. It mentions the penalty for early withdrawals from a CD and suggests creating a CD ladder as a strategy to take advantage of higher rates while having access to maturing CDs.\n",
            "9. It provides information on how to open a savings account or CD, including the need for ID and additional information, and suggests using NerdWallet's tools to find the best rates and account options.\n",
            "\n",
            "Please note that the information provided is based on the given excerpts, and there may be additional information in the full articles.\n"
          ]
        }
      ]
    }
  ],
  "metadata": {
    "colab": {
      "provenance": [],
      "include_colab_link": true
    },
    "kernelspec": {
      "display_name": "Python 3",
      "name": "python3"
    },
    "language_info": {
      "name": "python"
    }
  },
  "nbformat": 4,
  "nbformat_minor": 0
}